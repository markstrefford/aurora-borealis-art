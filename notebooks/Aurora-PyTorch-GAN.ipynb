{
 "cells": [
  {
   "cell_type": "markdown",
   "metadata": {},
   "source": [
    "# Create Aurora Borealis Art using GANs and PyTorch"
   ]
  },
  {
   "cell_type": "markdown",
   "metadata": {},
   "source": [
    "Based on https://github.com/aws/sagemaker-python-sdk/blob/master/src/sagemaker/pytorch/README.rst and https://pytorch.org/tutorials/beginner/dcgan_faces_tutorial.html"
   ]
  },
  {
   "cell_type": "code",
   "execution_count": 7,
   "metadata": {},
   "outputs": [
    {
     "name": "stdout",
     "output_type": "stream",
     "text": [
      "arn:aws:iam::019326146125:role/service-role/AmazonSageMaker-ExecutionRole-20190407T165524\n"
     ]
    }
   ],
   "source": [
    "from sagemaker import get_execution_role\n",
    "role = get_execution_role()\n",
    "print(role)"
   ]
  },
  {
   "cell_type": "code",
   "execution_count": 8,
   "metadata": {},
   "outputs": [],
   "source": [
    "from sagemaker.pytorch import PyTorch\n",
    "\n",
    "pytorch_estimator = PyTorch(entry_point='../train-sagemaker.py',\n",
    "                            role=role,\n",
    "                            train_instance_type='ml.p2.xlarge',  # 'ml.p3.2xlarge',\n",
    "                            train_instance_count=1,\n",
    "                            framework_version='1.0.0',\n",
    "                            # output_path='s3://markstrefford-art-1/aurora-model-1',\n",
    "                            output_path='s3://markstrefford-art-1/facegen-gan/model',\n",
    "                            hyperparameters = {'epochs': 5 })"
   ]
  },
  {
   "cell_type": "markdown",
   "metadata": {},
   "source": [
    "* Now set up training a model"
   ]
  },
  {
   "cell_type": "code",
   "execution_count": null,
   "metadata": {
    "scrolled": false
   },
   "outputs": [
    {
     "name": "stderr",
     "output_type": "stream",
     "text": [
      "INFO:sagemaker:Creating training-job with name: sagemaker-pytorch-2019-04-19-15-36-18-765\n"
     ]
    },
    {
     "name": "stdout",
     "output_type": "stream",
     "text": [
      "2019-04-19 15:36:19 Starting - Starting the training job...\n",
      "2019-04-19 15:36:20 Starting - Launching requested ML instances............\n",
      "2019-04-19 15:38:23 Starting - Preparing the instances for training......\n",
      "2019-04-19 15:39:46 Downloading - Downloading input data............................................................................................................\n",
      "2019-04-19 15:57:49 Training - Training image download completed. Training in progress.\n",
      "\u001b[31mbash: cannot set terminal process group (-1): Inappropriate ioctl for device\u001b[0m\n",
      "\u001b[31mbash: no job control in this shell\u001b[0m\n",
      "\u001b[31m2019-04-19 15:57:51,577 sagemaker-containers INFO     Imported framework sagemaker_pytorch_container.training\u001b[0m\n",
      "\u001b[31m2019-04-19 15:57:51,604 sagemaker_pytorch_container.training INFO     Block until all host DNS lookups succeed.\u001b[0m\n",
      "\u001b[31m2019-04-19 15:57:51,609 sagemaker_pytorch_container.training INFO     Invoking user training script.\u001b[0m\n",
      "\u001b[31m2019-04-19 15:57:51,967 sagemaker-containers INFO     Module train-sagemaker does not provide a setup.py. \u001b[0m\n",
      "\u001b[31mGenerating setup.py\u001b[0m\n",
      "\u001b[31m2019-04-19 15:57:51,967 sagemaker-containers INFO     Generating setup.cfg\u001b[0m\n",
      "\u001b[31m2019-04-19 15:57:51,967 sagemaker-containers INFO     Generating MANIFEST.in\u001b[0m\n",
      "\u001b[31m2019-04-19 15:57:51,967 sagemaker-containers INFO     Installing module with the following command:\u001b[0m\n",
      "\u001b[31m/usr/bin/python -m pip install -U . \u001b[0m\n",
      "\u001b[31mProcessing /opt/ml/code\u001b[0m\n",
      "\u001b[31mBuilding wheels for collected packages: train-sagemaker\n",
      "  Running setup.py bdist_wheel for train-sagemaker: started\n",
      "  Running setup.py bdist_wheel for train-sagemaker: finished with status 'done'\n",
      "  Stored in directory: /tmp/pip-ephem-wheel-cache-wyez32pg/wheels/35/24/16/37574d11bf9bde50616c67372a334f94fa8356bc7164af8ca3\u001b[0m\n",
      "\u001b[31mSuccessfully built train-sagemaker\u001b[0m\n",
      "\u001b[31mInstalling collected packages: train-sagemaker\u001b[0m\n",
      "\u001b[31mSuccessfully installed train-sagemaker-1.0.0\u001b[0m\n",
      "\u001b[31mYou are using pip version 18.1, however version 19.0.3 is available.\u001b[0m\n",
      "\u001b[31mYou should consider upgrading via the 'pip install --upgrade pip' command.\u001b[0m\n",
      "\u001b[31m2019-04-19 15:57:54,106 sagemaker-containers INFO     Invoking user script\n",
      "\u001b[0m\n",
      "\u001b[31mTraining Env:\n",
      "\u001b[0m\n",
      "\u001b[31m{\n",
      "    \"additional_framework_parameters\": {},\n",
      "    \"channel_input_dirs\": {\n",
      "        \"training\": \"/opt/ml/input/data/training\"\n",
      "    },\n",
      "    \"current_host\": \"algo-1\",\n",
      "    \"framework_module\": \"sagemaker_pytorch_container.training:main\",\n",
      "    \"hosts\": [\n",
      "        \"algo-1\"\n",
      "    ],\n",
      "    \"hyperparameters\": {\n",
      "        \"epochs\": 5\n",
      "    },\n",
      "    \"input_config_dir\": \"/opt/ml/input/config\",\n",
      "    \"input_data_config\": {\n",
      "        \"training\": {\n",
      "            \"TrainingInputMode\": \"File\",\n",
      "            \"S3DistributionType\": \"FullyReplicated\",\n",
      "            \"RecordWrapperType\": \"None\"\n",
      "        }\n",
      "    },\n",
      "    \"input_dir\": \"/opt/ml/input\",\n",
      "    \"is_master\": true,\n",
      "    \"job_name\": \"sagemaker-pytorch-2019-04-19-15-36-18-765\",\n",
      "    \"log_level\": 20,\n",
      "    \"master_hostname\": \"algo-1\",\n",
      "    \"model_dir\": \"/opt/ml/model\",\n",
      "    \"module_dir\": \"s3://markstrefford-art-1/sagemaker-pytorch-2019-04-19-15-36-18-765/source/sourcedir.tar.gz\",\n",
      "    \"module_name\": \"train-sagemaker\",\n",
      "    \"network_interface_name\": \"ethwe\",\n",
      "    \"num_cpus\": 4,\n",
      "    \"num_gpus\": 1,\n",
      "    \"output_data_dir\": \"/opt/ml/output/data\",\n",
      "    \"output_dir\": \"/opt/ml/output\",\n",
      "    \"output_intermediate_dir\": \"/opt/ml/output/intermediate\",\n",
      "    \"resource_config\": {\n",
      "        \"current_host\": \"algo-1\",\n",
      "        \"hosts\": [\n",
      "            \"algo-1\"\n",
      "        ],\n",
      "        \"network_interface_name\": \"ethwe\"\n",
      "    },\n",
      "    \"user_entry_point\": \"train-sagemaker.py\"\u001b[0m\n",
      "\u001b[31m}\n",
      "\u001b[0m\n",
      "\u001b[31mEnvironment variables:\n",
      "\u001b[0m\n",
      "\u001b[31mSM_HOSTS=[\"algo-1\"]\u001b[0m\n",
      "\u001b[31mSM_NETWORK_INTERFACE_NAME=ethwe\u001b[0m\n",
      "\u001b[31mSM_HPS={\"epochs\":5}\u001b[0m\n",
      "\u001b[31mSM_USER_ENTRY_POINT=train-sagemaker.py\u001b[0m\n",
      "\u001b[31mSM_FRAMEWORK_PARAMS={}\u001b[0m\n",
      "\u001b[31mSM_RESOURCE_CONFIG={\"current_host\":\"algo-1\",\"hosts\":[\"algo-1\"],\"network_interface_name\":\"ethwe\"}\u001b[0m\n",
      "\u001b[31mSM_INPUT_DATA_CONFIG={\"training\":{\"RecordWrapperType\":\"None\",\"S3DistributionType\":\"FullyReplicated\",\"TrainingInputMode\":\"File\"}}\u001b[0m\n",
      "\u001b[31mSM_OUTPUT_DATA_DIR=/opt/ml/output/data\u001b[0m\n",
      "\u001b[31mSM_CHANNELS=[\"training\"]\u001b[0m\n",
      "\u001b[31mSM_CURRENT_HOST=algo-1\u001b[0m\n",
      "\u001b[31mSM_MODULE_NAME=train-sagemaker\u001b[0m\n",
      "\u001b[31mSM_LOG_LEVEL=20\u001b[0m\n",
      "\u001b[31mSM_FRAMEWORK_MODULE=sagemaker_pytorch_container.training:main\u001b[0m\n",
      "\u001b[31mSM_INPUT_DIR=/opt/ml/input\u001b[0m\n",
      "\u001b[31mSM_INPUT_CONFIG_DIR=/opt/ml/input/config\u001b[0m\n",
      "\u001b[31mSM_OUTPUT_DIR=/opt/ml/output\u001b[0m\n",
      "\u001b[31mSM_NUM_CPUS=4\u001b[0m\n",
      "\u001b[31mSM_NUM_GPUS=1\u001b[0m\n",
      "\u001b[31mSM_MODEL_DIR=/opt/ml/model\u001b[0m\n",
      "\u001b[31mSM_MODULE_DIR=s3://markstrefford-art-1/sagemaker-pytorch-2019-04-19-15-36-18-765/source/sourcedir.tar.gz\u001b[0m\n",
      "\u001b[31mSM_TRAINING_ENV={\"additional_framework_parameters\":{},\"channel_input_dirs\":{\"training\":\"/opt/ml/input/data/training\"},\"current_host\":\"algo-1\",\"framework_module\":\"sagemaker_pytorch_container.training:main\",\"hosts\":[\"algo-1\"],\"hyperparameters\":{\"epochs\":5},\"input_config_dir\":\"/opt/ml/input/config\",\"input_data_config\":{\"training\":{\"RecordWrapperType\":\"None\",\"S3DistributionType\":\"FullyReplicated\",\"TrainingInputMode\":\"File\"}},\"input_dir\":\"/opt/ml/input\",\"is_master\":true,\"job_name\":\"sagemaker-pytorch-2019-04-19-15-36-18-765\",\"log_level\":20,\"master_hostname\":\"algo-1\",\"model_dir\":\"/opt/ml/model\",\"module_dir\":\"s3://markstrefford-art-1/sagemaker-pytorch-2019-04-19-15-36-18-765/source/sourcedir.tar.gz\",\"module_name\":\"train-sagemaker\",\"network_interface_name\":\"ethwe\",\"num_cpus\":4,\"num_gpus\":1,\"output_data_dir\":\"/opt/ml/output/data\",\"output_dir\":\"/opt/ml/output\",\"output_intermediate_dir\":\"/opt/ml/output/intermediate\",\"resource_config\":{\"current_host\":\"algo-1\",\"hosts\":[\"algo-1\"],\"network_interface_name\":\"ethwe\"},\"user_entry_point\":\"train-sagemaker.py\"}\u001b[0m\n",
      "\u001b[31mSM_USER_ARGS=[\"--epochs\",\"5\"]\u001b[0m\n",
      "\u001b[31mSM_OUTPUT_INTERMEDIATE_DIR=/opt/ml/output/intermediate\u001b[0m\n",
      "\u001b[31mSM_CHANNEL_TRAINING=/opt/ml/input/data/training\u001b[0m\n",
      "\u001b[31mSM_HP_EPOCHS=5\u001b[0m\n",
      "\u001b[31mPYTHONPATH=/usr/local/bin:/usr/lib/python36.zip:/usr/lib/python3.6:/usr/lib/python3.6/lib-dynload:/usr/local/lib/python3.6/dist-packages:/usr/lib/python3/dist-packages\n",
      "\u001b[0m\n",
      "\u001b[31mInvoking script with the following command:\n",
      "\u001b[0m\n",
      "\u001b[31m/usr/bin/python -m train-sagemaker --epochs 5\n",
      "\n",
      "\u001b[0m\n",
      "\u001b[31margs: Namespace(batch_size=64, beta1=0.5, data_dir='/opt/ml/input/data/training', epochs=5, lr=0.0002, manual_seed=999, model_dir='/opt/ml/model', output_data_dir='/opt/ml/output/data', use_cuda=True)\u001b[0m\n",
      "\u001b[31mdataroot=/opt/ml/input/data/training\u001b[0m\n",
      "\u001b[31mGenerator(\n",
      "  (main): Sequential(\n",
      "    (0): ConvTranspose2d(100, 512, kernel_size=(4, 4), stride=(1, 1), bias=False)\n",
      "    (1): BatchNorm2d(512, eps=1e-05, momentum=0.1, affine=True, track_running_stats=True)\n",
      "    (2): ReLU(inplace)\n",
      "    (3): ConvTranspose2d(512, 256, kernel_size=(4, 4), stride=(2, 2), padding=(1, 1), bias=False)\n",
      "    (4): BatchNorm2d(256, eps=1e-05, momentum=0.1, affine=True, track_running_stats=True)\n",
      "    (5): ReLU(inplace)\n",
      "    (6): ConvTranspose2d(256, 128, kernel_size=(4, 4), stride=(2, 2), padding=(1, 1), bias=False)\n",
      "    (7): BatchNorm2d(128, eps=1e-05, momentum=0.1, affine=True, track_running_stats=True)\n",
      "    (8): ReLU(inplace)\n",
      "    (9): ConvTranspose2d(128, 64, kernel_size=(4, 4), stride=(2, 2), padding=(1, 1), bias=False)\n",
      "    (10): BatchNorm2d(64, eps=1e-05, momentum=0.1, affine=True, track_running_stats=True)\n",
      "    (11): ReLU(inplace)\n",
      "    (12): ConvTranspose2d(64, 3, kernel_size=(4, 4), stride=(2, 2), padding=(1, 1), bias=False)\n",
      "    (13): Tanh()\n",
      "  )\u001b[0m\n",
      "\u001b[31m)\u001b[0m\n",
      "\u001b[31mDiscriminator(\n",
      "  (main): Sequential(\n",
      "    (0): Conv2d(3, 64, kernel_size=(4, 4), stride=(2, 2), padding=(1, 1), bias=False)\n",
      "    (1): LeakyReLU(negative_slope=0.2, inplace)\n",
      "    (2): Conv2d(64, 128, kernel_size=(4, 4), stride=(2, 2), padding=(1, 1), bias=False)\n",
      "    (3): BatchNorm2d(128, eps=1e-05, momentum=0.1, affine=True, track_running_stats=True)\n",
      "    (4): LeakyReLU(negative_slope=0.2, inplace)\n",
      "    (5): Conv2d(128, 256, kernel_size=(4, 4), stride=(2, 2), padding=(1, 1), bias=False)\n",
      "    (6): BatchNorm2d(256, eps=1e-05, momentum=0.1, affine=True, track_running_stats=True)\n",
      "    (7): LeakyReLU(negative_slope=0.2, inplace)\n",
      "    (8): Conv2d(256, 512, kernel_size=(4, 4), stride=(2, 2), padding=(1, 1), bias=False)\n",
      "    (9): BatchNorm2d(512, eps=1e-05, momentum=0.1, affine=True, track_running_stats=True)\n",
      "    (10): LeakyReLU(negative_slope=0.2, inplace)\n",
      "    (11): Conv2d(512, 1, kernel_size=(4, 4), stride=(1, 1), bias=False)\n",
      "    (12): Sigmoid()\n",
      "  )\u001b[0m\n",
      "\u001b[31m)\u001b[0m\n",
      "\u001b[31mStarting Training Loop...\u001b[0m\n",
      "\u001b[31m[0/5][0/3166]#011Loss_D: 1.8630#011Loss_G: 4.5301#011D(x): 0.4836#011D(G(z)): 0.5669 / 0.0156\u001b[0m\n",
      "\u001b[31mGenerated fake images of shape torch.Size([64, 3, 64, 64])\u001b[0m\n"
     ]
    },
    {
     "name": "stdout",
     "output_type": "stream",
     "text": [
      "\u001b[31mGenerated fake images of shape torch.Size([64, 3, 64, 64])\u001b[0m\n",
      "\u001b[31mGenerated fake images of shape torch.Size([64, 3, 64, 64])\u001b[0m\n",
      "\u001b[31mGenerated fake images of shape torch.Size([64, 3, 64, 64])\u001b[0m\n",
      "\u001b[31mGenerated fake images of shape torch.Size([64, 3, 64, 64])\u001b[0m\n",
      "\u001b[31mGenerated fake images of shape torch.Size([64, 3, 64, 64])\u001b[0m\n",
      "\u001b[31mGenerated fake images of shape torch.Size([64, 3, 64, 64])\u001b[0m\n",
      "\u001b[31mGenerated fake images of shape torch.Size([64, 3, 64, 64])\u001b[0m\n",
      "\u001b[31mGenerated fake images of shape torch.Size([64, 3, 64, 64])\u001b[0m\n",
      "\u001b[31mGenerated fake images of shape torch.Size([64, 3, 64, 64])\u001b[0m\n",
      "\u001b[31m[0/5][500/3166]#011Loss_D: 0.5488#011Loss_G: 6.3362#011D(x): 0.9368#011D(G(z)): 0.3286 / 0.0038\u001b[0m\n",
      "\u001b[31mGenerated fake images of shape torch.Size([64, 3, 64, 64])\u001b[0m\n",
      "\u001b[31mGenerated fake images of shape torch.Size([64, 3, 64, 64])\u001b[0m\n",
      "\u001b[31mGenerated fake images of shape torch.Size([64, 3, 64, 64])\u001b[0m\n",
      "\u001b[31mGenerated fake images of shape torch.Size([64, 3, 64, 64])\u001b[0m\n",
      "\u001b[31mGenerated fake images of shape torch.Size([64, 3, 64, 64])\u001b[0m\n",
      "\u001b[31mGenerated fake images of shape torch.Size([64, 3, 64, 64])\u001b[0m\n",
      "\u001b[31mGenerated fake images of shape torch.Size([64, 3, 64, 64])\u001b[0m\n",
      "\u001b[31mGenerated fake images of shape torch.Size([64, 3, 64, 64])\u001b[0m\n",
      "\u001b[31mGenerated fake images of shape torch.Size([64, 3, 64, 64])\u001b[0m\n",
      "\u001b[31mGenerated fake images of shape torch.Size([64, 3, 64, 64])\u001b[0m\n",
      "\u001b[31m[0/5][1000/3166]#011Loss_D: 0.5247#011Loss_G: 4.8242#011D(x): 0.8431#011D(G(z)): 0.2557 / 0.0125\u001b[0m\n",
      "\u001b[31mGenerated fake images of shape torch.Size([64, 3, 64, 64])\u001b[0m\n",
      "\u001b[31mGenerated fake images of shape torch.Size([64, 3, 64, 64])\u001b[0m\n",
      "\u001b[31mGenerated fake images of shape torch.Size([64, 3, 64, 64])\u001b[0m\n",
      "\u001b[31mGenerated fake images of shape torch.Size([64, 3, 64, 64])\u001b[0m\n",
      "\u001b[31mGenerated fake images of shape torch.Size([64, 3, 64, 64])\u001b[0m\n",
      "\u001b[31mGenerated fake images of shape torch.Size([64, 3, 64, 64])\u001b[0m\n",
      "\u001b[31mGenerated fake images of shape torch.Size([64, 3, 64, 64])\u001b[0m\n",
      "\u001b[31mGenerated fake images of shape torch.Size([64, 3, 64, 64])\u001b[0m\n",
      "\u001b[31mGenerated fake images of shape torch.Size([64, 3, 64, 64])\u001b[0m\n",
      "\u001b[31mGenerated fake images of shape torch.Size([64, 3, 64, 64])\u001b[0m\n",
      "\u001b[31m[0/5][1500/3166]#011Loss_D: 0.4253#011Loss_G: 2.6711#011D(x): 0.7743#011D(G(z)): 0.1256 / 0.0960\u001b[0m\n",
      "\u001b[31mGenerated fake images of shape torch.Size([64, 3, 64, 64])\u001b[0m\n",
      "\u001b[31mGenerated fake images of shape torch.Size([64, 3, 64, 64])\u001b[0m\n",
      "\u001b[31mGenerated fake images of shape torch.Size([64, 3, 64, 64])\u001b[0m\n",
      "\u001b[31mGenerated fake images of shape torch.Size([64, 3, 64, 64])\u001b[0m\n",
      "\u001b[31mGenerated fake images of shape torch.Size([64, 3, 64, 64])\u001b[0m\n",
      "\u001b[31mGenerated fake images of shape torch.Size([64, 3, 64, 64])\u001b[0m\n",
      "\u001b[31mGenerated fake images of shape torch.Size([64, 3, 64, 64])\u001b[0m\n",
      "\u001b[31mGenerated fake images of shape torch.Size([64, 3, 64, 64])\u001b[0m\n",
      "\u001b[31mGenerated fake images of shape torch.Size([64, 3, 64, 64])\u001b[0m\n",
      "\u001b[31mGenerated fake images of shape torch.Size([64, 3, 64, 64])\u001b[0m\n",
      "\u001b[31m[0/5][2000/3166]#011Loss_D: 0.7683#011Loss_G: 6.1847#011D(x): 0.9361#011D(G(z)): 0.4488 / 0.0039\u001b[0m\n",
      "\u001b[31mGenerated fake images of shape torch.Size([64, 3, 64, 64])\u001b[0m\n",
      "\u001b[31mGenerated fake images of shape torch.Size([64, 3, 64, 64])\u001b[0m\n",
      "\u001b[31mGenerated fake images of shape torch.Size([64, 3, 64, 64])\u001b[0m\n",
      "\u001b[31mGenerated fake images of shape torch.Size([64, 3, 64, 64])\u001b[0m\n",
      "\u001b[31mGenerated fake images of shape torch.Size([64, 3, 64, 64])\u001b[0m\n"
     ]
    }
   ],
   "source": [
    "# pytorch_estimator.fit({'training': 's3://markstrefford-art-1/aurora-art-1'})\n",
    "pytorch_estimator.fit({'training': 's3://markstrefford-art-1/facegen-gan/celeba'})\n",
    "\n"
   ]
  },
  {
   "cell_type": "code",
   "execution_count": null,
   "metadata": {},
   "outputs": [],
   "source": []
  },
  {
   "cell_type": "code",
   "execution_count": null,
   "metadata": {},
   "outputs": [],
   "source": []
  },
  {
   "cell_type": "code",
   "execution_count": null,
   "metadata": {},
   "outputs": [],
   "source": []
  },
  {
   "cell_type": "code",
   "execution_count": null,
   "metadata": {},
   "outputs": [],
   "source": [
    "\n",
    "\n",
    "\n"
   ]
  }
 ],
 "metadata": {
  "kernelspec": {
   "display_name": "conda_pytorch_p36",
   "language": "python",
   "name": "conda_pytorch_p36"
  },
  "language_info": {
   "codemirror_mode": {
    "name": "ipython",
    "version": 3
   },
   "file_extension": ".py",
   "mimetype": "text/x-python",
   "name": "python",
   "nbconvert_exporter": "python",
   "pygments_lexer": "ipython3",
   "version": "3.6.5"
  }
 },
 "nbformat": 4,
 "nbformat_minor": 2
}
