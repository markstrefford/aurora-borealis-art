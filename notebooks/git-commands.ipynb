{
 "cells": [
  {
   "cell_type": "code",
   "execution_count": 4,
   "metadata": {},
   "outputs": [
    {
     "name": "stdout",
     "output_type": "stream",
     "text": [
      "remote: Enumerating objects: 5, done.\u001b[K\r\n",
      "remote: Counting objects:  20% (1/5)   \u001b[K\r",
      "remote: Counting objects:  40% (2/5)   \u001b[K\r",
      "remote: Counting objects:  60% (3/5)   \u001b[K\r",
      "remote: Counting objects:  80% (4/5)   \u001b[K\r",
      "remote: Counting objects: 100% (5/5)   \u001b[K\r",
      "remote: Counting objects: 100% (5/5), done.\u001b[K\r\n",
      "remote: Compressing objects: 100% (1/1)   \u001b[K\r",
      "remote: Compressing objects: 100% (1/1), done.\u001b[K\r\n",
      "remote: Total 3 (delta 2), reused 3 (delta 2), pack-reused 0\u001b[K\r\n",
      "Unpacking objects:  33% (1/3)   \r",
      "Unpacking objects:  66% (2/3)   \r",
      "Unpacking objects: 100% (3/3)   \r",
      "Unpacking objects: 100% (3/3), done.\r\n",
      "From https://github.com/markstrefford/aurora-borealis-art\r\n",
      " * branch            master     -> FETCH_HEAD\r\n",
      "   bff4196..8e27ff4  master     -> origin/master\r\n",
      "Updating bff4196..8e27ff4\r\n",
      "Fast-forward\r\n",
      " train-sagemaker.py | 478 \u001b[32m++++++++++++++++++++++++++++\u001b[m\u001b[31m-------------------------\u001b[m\r\n",
      " 1 file changed, 252 insertions(+), 226 deletions(-)\r\n"
     ]
    }
   ],
   "source": [
    "!git pull origin master"
   ]
  },
  {
   "cell_type": "code",
   "execution_count": 5,
   "metadata": {},
   "outputs": [
    {
     "name": "stdout",
     "output_type": "stream",
     "text": [
      "On branch master\r\n",
      "Your branch is up-to-date with 'origin/master'.\r\n",
      "\r\n",
      "Changes not staged for commit:\r\n",
      "  (use \"git add <file>...\" to update what will be committed)\r\n",
      "  (use \"git checkout -- <file>...\" to discard changes in working directory)\r\n",
      "\r\n",
      "\t\u001b[31mmodified:   git-commands.ipynb\u001b[m\r\n",
      "\r\n",
      "no changes added to commit (use \"git add\" and/or \"git commit -a\")\r\n"
     ]
    }
   ],
   "source": [
    "!git status"
   ]
  },
  {
   "cell_type": "code",
   "execution_count": 3,
   "metadata": {},
   "outputs": [
    {
     "name": "stdout",
     "output_type": "stream",
     "text": [
      "[master bff4196] Using PyTorth and Sagemaker\n",
      " Committer: EC2 Default User <ec2-user@ip-172-16-5-62.eu-west-1.compute.internal>\n",
      "Your name and email address were configured automatically based\n",
      "on your username and hostname. Please check that they are accurate.\n",
      "You can suppress this message by setting them explicitly:\n",
      "\n",
      "    git config --global user.name \"Your Name\"\n",
      "    git config --global user.email you@example.com\n",
      "\n",
      "After doing this, you may fix the identity used for this commit with:\n",
      "\n",
      "    git commit --amend --reset-author\n",
      "\n",
      " 2 files changed, 109 insertions(+)\n",
      " create mode 100644 notebooks/Aurora-PyTorch-GAN.ipynb\n",
      " create mode 100644 notebooks/git-commands.ipynb\n",
      "Counting objects: 5, done.\n",
      "Delta compression using up to 2 threads.\n",
      "Compressing objects: 100% (5/5), done.\n",
      "Writing objects: 100% (5/5), 2.52 KiB | 2.52 MiB/s, done.\n",
      "Total 5 (delta 2), reused 0 (delta 0)\n",
      "remote: Resolving deltas: 100% (2/2), completed with 2 local objects.\u001b[K\n",
      "To https://github.com/markstrefford/aurora-borealis-art.git\n",
      "   0c6378d..bff4196  master -> master\n"
     ]
    }
   ],
   "source": [
    "!git add Aurora-PyTorch-GAN.ipynb git-commands.ipynb\n",
    "!git commit -am \"Using PyTorth and Sagemaker\"\n",
    "!git push"
   ]
  },
  {
   "cell_type": "code",
   "execution_count": null,
   "metadata": {},
   "outputs": [],
   "source": []
  }
 ],
 "metadata": {
  "kernelspec": {
   "display_name": "conda_python3",
   "language": "python",
   "name": "conda_python3"
  },
  "language_info": {
   "codemirror_mode": {
    "name": "ipython",
    "version": 3
   },
   "file_extension": ".py",
   "mimetype": "text/x-python",
   "name": "python",
   "nbconvert_exporter": "python",
   "pygments_lexer": "ipython3",
   "version": "3.6.5"
  }
 },
 "nbformat": 4,
 "nbformat_minor": 2
}
