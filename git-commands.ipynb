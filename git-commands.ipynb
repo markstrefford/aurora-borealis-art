{
 "cells": [
  {
   "cell_type": "code",
   "execution_count": null,
   "metadata": {},
   "outputs": [
    {
     "name": "stdout",
     "output_type": "stream",
     "text": [
      "remote: Enumerating objects: 11, done.\u001b[K\r\n",
      "remote: Counting objects:   9% (1/11)   \u001b[K\r",
      "remote: Counting objects:  18% (2/11)   \u001b[K\r",
      "remote: Counting objects:  27% (3/11)   \u001b[K\r",
      "remote: Counting objects:  36% (4/11)   \u001b[K\r",
      "remote: Counting objects:  45% (5/11)   \u001b[K\r",
      "remote: Counting objects:  54% (6/11)   \u001b[K\r",
      "remote: Counting objects:  63% (7/11)   \u001b[K\r",
      "remote: Counting objects:  72% (8/11)   \u001b[K\r",
      "remote: Counting objects:  81% (9/11)   \u001b[K\r",
      "remote: Counting objects:  90% (10/11)   \u001b[K\r",
      "remote: Counting objects: 100% (11/11)   \u001b[K\r",
      "remote: Counting objects: 100% (11/11), done.\u001b[K\r\n",
      "remote: Compressing objects: 100% (1/1)   \u001b[K\r",
      "remote: Compressing objects: 100% (1/1), done.\u001b[K\r\n",
      "remote: Total 6 (delta 5), reused 6 (delta 5), pack-reused 0\u001b[K\r\n",
      "Unpacking objects:  16% (1/6)   \r",
      "Unpacking objects:  33% (2/6)   \r",
      "Unpacking objects:  50% (3/6)   \r",
      "Unpacking objects:  66% (4/6)   \r",
      "Unpacking objects:  83% (5/6)   \r",
      "Unpacking objects: 100% (6/6)   \r",
      "Unpacking objects: 100% (6/6), done.\r\n",
      "From https://github.com/markstrefford/aurora-borealis-art\r\n",
      " * branch            master     -> FETCH_HEAD\r\n",
      "   66c8f6a..6fea793  master     -> origin/master\r\n",
      "\u001b7\u001b[?47h\u001b[?1h\u001b=\u001b[?2004h\u001b[1;24r\u001b[m\u001b[H\u001b[2J\u001b[24;1H\"~/SageMaker/aurora-borealis-art/.git/MERGE_MSG\" 7L, 305C\u001b[1;1HMerge branch 'master' of https://github.com/markstrefford/aurora-borealis-art\r\n",
      "\r\n",
      "# Please enter a commit message to explain why this merge is necessary,\r\n",
      "# especially if it merges an updated upstream into a topic branch.\r\n",
      "#\r\n",
      "# Lines starting with '#' will be ignored, and an empty message aborts\r\n",
      "# the commit.\r\n",
      "\u001b[1m\u001b[34m~                                                                               \u001b[9;1H~                                                                               \u001b[10;1H~                                                                               \u001b[11;1H~                                                                               \u001b[12;1H~                                                                               \u001b[13;1H~                                                                               \u001b[14;1H~                                                                               \u001b[15;1H~                                                                               \u001b[16;1H~                                                                               \u001b[17;1H~                                                                               \u001b[18;1H~                                                                               \u001b[19;1H~                                                                               \u001b[20;1H~                                                                               \u001b[21;1H~                                                                               \u001b[22;1H~                                                                               \u001b[23;1H~                                                                               \u001b[1;1H"
     ]
    }
   ],
   "source": [
    "!git pull origin master"
   ]
  },
  {
   "cell_type": "code",
   "execution_count": null,
   "metadata": {},
   "outputs": [],
   "source": [
    "!git status"
   ]
  },
  {
   "cell_type": "code",
   "execution_count": 12,
   "metadata": {},
   "outputs": [],
   "source": [
    "!git add Aurora-PyTorch-GAN.ipynb\n",
    "!git add git-commands.ipynb\n"
   ]
  },
  {
   "cell_type": "code",
   "execution_count": null,
   "metadata": {},
   "outputs": [],
   "source": [
    "# !git add ../source/*.py\n",
    "!git commit -am \"End of 15 epoch run\"\n",
    "!git push"
   ]
  },
  {
   "cell_type": "code",
   "execution_count": null,
   "metadata": {},
   "outputs": [],
   "source": [
    "!git pull --commit"
   ]
  },
  {
   "cell_type": "code",
   "execution_count": null,
   "metadata": {},
   "outputs": [],
   "source": []
  }
 ],
 "metadata": {
  "kernelspec": {
   "display_name": "conda_python3",
   "language": "python",
   "name": "conda_python3"
  },
  "language_info": {
   "codemirror_mode": {
    "name": "ipython",
    "version": 3
   },
   "file_extension": ".py",
   "mimetype": "text/x-python",
   "name": "python",
   "nbconvert_exporter": "python",
   "pygments_lexer": "ipython3",
   "version": "3.6.5"
  }
 },
 "nbformat": 4,
 "nbformat_minor": 2
}
